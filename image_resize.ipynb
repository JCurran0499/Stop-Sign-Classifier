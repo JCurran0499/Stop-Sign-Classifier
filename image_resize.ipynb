{
 "cells": [
  {
   "cell_type": "code",
   "execution_count": 1,
   "id": "subsequent-ceramic",
   "metadata": {},
   "outputs": [],
   "source": [
    "import numpy as np\n",
    "import cv2\n",
    "import os\n",
    "import matplotlib.pyplot as plt"
   ]
  },
  {
   "cell_type": "code",
   "execution_count": 2,
   "id": "effective-findings",
   "metadata": {},
   "outputs": [],
   "source": [
    "# resize all photos in a given directory to the same dimensions\n",
    "def resize_imgs(path, size):\n",
    "    for img in os.listdir(path):\n",
    "        new_img = cv2.imread(os.path.join(path, img))\n",
    "        new_img = cv2.resize(new_img, size)\n",
    "        cv2.imwrite(os.path.join(path, img), new_img)"
   ]
  },
  {
   "cell_type": "code",
   "execution_count": 3,
   "id": "coastal-substance",
   "metadata": {},
   "outputs": [],
   "source": [
    "# iterate through all photos in a given directory, selectively deleting those that do not meet the standards of the data\n",
    "def choose_from_folder(path):\n",
    "    img_list = os.listdir(path)\n",
    "    length = len(img_list)\n",
    "    \n",
    "    for i, img in enumerate(img_list):\n",
    "        try:\n",
    "            plt.imshow(cv2.imread(os.path.join(path, img))[..., ::-1])\n",
    "            plt.show()\n",
    "        except:\n",
    "            print(\"Could not plot image\")\n",
    "        \n",
    "        inp = input(\"({}/{}) Keep?: \".format(i, length))\n",
    "        if inp == \"n\":\n",
    "            os.remove(os.path.join(path, img))\n",
    "            \n",
    "        i = i + 1"
   ]
  }
 ],
 "metadata": {
  "kernelspec": {
   "display_name": "Python 3",
   "language": "python",
   "name": "python3"
  },
  "language_info": {
   "codemirror_mode": {
    "name": "ipython",
    "version": 3
   },
   "file_extension": ".py",
   "mimetype": "text/x-python",
   "name": "python",
   "nbconvert_exporter": "python",
   "pygments_lexer": "ipython3",
   "version": "3.8.5"
  }
 },
 "nbformat": 4,
 "nbformat_minor": 5
}
