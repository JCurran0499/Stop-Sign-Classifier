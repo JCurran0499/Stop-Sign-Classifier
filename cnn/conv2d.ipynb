{
 "cells": [
  {
   "cell_type": "markdown",
   "id": "sonic-peripheral",
   "metadata": {},
   "source": [
    "# Convolutional Neural Network: Stop Sign Identifier\n",
    "\n",
    "### Classifying Stop Signs Against Yield Signs"
   ]
  },
  {
   "cell_type": "markdown",
   "id": "solid-terrorism",
   "metadata": {},
   "source": [
    "The goal of this model is to classify stop signs from yield signs. This will be built with a convolutional neural network using binary categories. The end goal is to use this model to develop an R-CNN to determine whether a given image has a stop sign in it.\n",
    "<br>\n",
    "<br>\n",
    "First, we will import to relevant modules."
   ]
  },
  {
   "cell_type": "code",
   "execution_count": 9,
   "id": "human-defense",
   "metadata": {},
   "outputs": [],
   "source": [
    "import tensorflow as tf\n",
    "from tensorflow import keras\n",
    "from tensorflow.keras.models import Sequential\n",
    "from tensorflow.keras.layers import Dense, Conv2D , MaxPool2D , Flatten , Dropout \n",
    "from tensorflow.keras.regularizers import l2\n",
    "from tensorflow.keras.optimizers import Adam\n",
    "from tensorflow.keras.callbacks import EarlyStopping, ReduceLROnPlateau\n",
    "\n",
    "from skimage.util import random_noise\n",
    "from skimage.transform import rotate, AffineTransform, warp\n",
    "\n",
    "import numpy as np\n",
    "import cv2\n",
    "import os\n",
    "import matplotlib.pyplot as plt\n",
    "import seaborn\n",
    "import pickle\n",
    "import random"
   ]
  },
  {
   "cell_type": "markdown",
   "id": "therapeutic-thesaurus",
   "metadata": {},
   "source": [
    "#### Image Data Collection\n",
    "\n",
    "Image for training and validation data will be **grayscale** with dimensions of **64x64** pixels. The *get_image* function will retrive image data and reformat them to meet those attributes.\n",
    "<br>\n",
    "<br>\n",
    "Each image will be assigned a label of **1** or **0**, for stop signs and yield signs respectively. We will now define our function and collect the data."
   ]
  },
  {
   "cell_type": "code",
   "execution_count": 10,
   "id": "southern-athletics",
   "metadata": {},
   "outputs": [],
   "source": [
    "img_size = 64\n",
    "\n",
    "def get_image(path):\n",
    "    bgr_arr = cv2.imread(path)\n",
    "    resize_arr = cv2.resize(bgr_arr, (img_size, img_size))\n",
    "    grayscale_arr = cv2.cvtColor(resize_arr, cv2.COLOR_BGR2GRAY)\n",
    "    return random_noise(grayscale_arr)"
   ]
  },
  {
   "cell_type": "code",
   "execution_count": 11,
   "id": "happy-founder",
   "metadata": {
    "scrolled": true
   },
   "outputs": [],
   "source": [
    "stop_images = [(get_image('cnn/stop_signs/' + img), 1) for img in os.listdir('cnn/stop_signs')]\n",
    "yield_images = [(get_image('cnn/yield_signs/' + img), 0) for img in os.listdir('cnn/yield_signs')]"
   ]
  },
  {
   "cell_type": "markdown",
   "id": "expected-nevada",
   "metadata": {},
   "source": [
    "Now that we have two arrays, one for each classification, we can merge the data into one full array. After the merge, we will shuffle the list to create a degree of randomness with our images"
   ]
  },
  {
   "cell_type": "code",
   "execution_count": 12,
   "id": "mounted-trail",
   "metadata": {},
   "outputs": [],
   "source": [
    "full_data = stop_images + yield_images\n",
    "\n",
    "random.seed(25)\n",
    "random.shuffle(full_data)"
   ]
  },
  {
   "cell_type": "markdown",
   "id": "periodic-import",
   "metadata": {},
   "source": [
    "#### Image Augmentation\n",
    "\n",
    "Now that all of our image data has been collected, combined, and shuffled, we can augment our data to drastically expand the number of data that we have. This way, we will be able to train a robust model despite our limited collection of images.\n",
    "<br>\n",
    "<br>\n",
    "First, we will define our *augment* function. This function utilizes a heavy degree of randomness so it can be used several times in succession with different results. The steps for augmenting a given image once:\n",
    "1. Flip the image vertically if it succeeds on a coin flip's chance (50%)\n",
    "2. Flip the image horizontally if it succeeds on a coin flip's chance (50%)\n",
    "3. Rotate the image randomly on a certain number of degrees from intervals of 45&deg;\n",
    "\n",
    "<br>\n",
    "Next, we will append some augmented images to our data set. For each image, we will add 8 augmentations of that image to the data. This will grow the number of points in our set to an appropriate number for the model we are going to build."
   ]
  },
  {
   "cell_type": "code",
   "execution_count": 13,
   "id": "formal-donor",
   "metadata": {},
   "outputs": [],
   "source": [
    "def augment(img):\n",
    "    new_img = img\n",
    "    if random.choice([True, False]):\n",
    "        new_img = np.fliplr(new_img)\n",
    "    if random.choice([True, False]):\n",
    "        new_img = np.flipud(new_img)\n",
    "            \n",
    "    return rotate(new_img, angle=random.randrange(0, 360, 45))"
   ]
  },
  {
   "cell_type": "code",
   "execution_count": 14,
   "id": "fewer-district",
   "metadata": {},
   "outputs": [],
   "source": [
    "data_length = len(full_data)\n",
    "for i in range(data_length):\n",
    "    img, label = full_data[i]\n",
    "    for n in range(8):\n",
    "        full_data.append((augment(img), label))"
   ]
  },
  {
   "cell_type": "markdown",
   "id": "reliable-monthly",
   "metadata": {},
   "source": [
    "#### Data Preparation\n",
    "\n",
    "After collecting and expanding our data, we can now split it into training and validation data. Our training data will consist of 75% of the full dataset. We will also normalize our data to better prepare it for the neural network. Since each pixel value in a given image ranges from 0 to 255, we will divide our image data by 255."
   ]
  },
  {
   "cell_type": "code",
   "execution_count": 15,
   "id": "ceramic-reaction",
   "metadata": {},
   "outputs": [],
   "source": [
    "train_size = int(len(full_data) * 0.75)\n",
    "\n",
    "X_train = np.array([element[0] for element in full_data[:train_size]]) / 255\n",
    "y_train = np.array([element[1] for element in full_data[:train_size]])\n",
    "\n",
    "X_test = np.array([element[0] for element in full_data[train_size:]]) / 255\n",
    "y_test = np.array([element[1] for element in full_data[train_size:]])"
   ]
  },
  {
   "cell_type": "code",
   "execution_count": 16,
   "id": "invalid-cancer",
   "metadata": {},
   "outputs": [],
   "source": [
    "X_train = X_train.reshape(-1, img_size, img_size, 1)\n",
    "X_test = X_test.reshape(-1, img_size, img_size, 1)"
   ]
  },
  {
   "cell_type": "markdown",
   "id": "suburban-macintosh",
   "metadata": {},
   "source": [
    "#### Early Visualizations\n",
    "\n",
    "Now that our data has been fully prepared, we can plot some early visualizations for our data."
   ]
  },
  {
   "cell_type": "code",
   "execution_count": 17,
   "id": "false-objective",
   "metadata": {},
   "outputs": [
    {
     "data": {
      "image/png": "[encoded data removed]",
      "text/plain": [
       "<Figure size 864x360 with 2 Axes>"
      ]
     },
     "metadata": {
      "needs_background": "light"
     },
     "output_type": "display_data"
    }
   ],
   "source": [
    "plt.figure(figsize=(12, 5))\n",
    "plt.subplot(1, 2, 1)\n",
    "ax = seaborn.countplot(x=y_train, order=[1, 0], palette=['red', 'blue'])\n",
    "ax.set_xticklabels(['Stop Sign', 'Yield Sign'])\n",
    "ax.set_title('Training Data Categories')\n",
    "\n",
    "plt.subplot(1, 2, 2)\n",
    "ax2 = seaborn.countplot(x=y_test, order=[1, 0], palette=['red', 'blue'])\n",
    "ax2.set_xticklabels(['Stop Sign', 'Yield'])\n",
    "ax2.set_title('Testing Data Categories')\n",
    "\n",
    "plt.show()"
   ]
  },
  {
   "cell_type": "markdown",
   "id": "geographic-anger",
   "metadata": {},
   "source": [
    "#### Building the Model\n",
    "\n",
    "We can now begin building our model. This **sequential convolutional neural network** consists of several layers:\n",
    "- **Convolutional (Conv2D) Layer**: extracts features of an image by sliding a kernal matrix over the pixels\n",
    "- **Max Pooling (MaxPool2d) Layer**: reduces image size by combining pixels into a single value using their maximum\n",
    "- **Flatten Layer**: flattens the image into a one dimensional array of pixel values for the fully connected layers\n",
    "- **Dense Layer**: fully connected neural network layer\n",
    "- **Dropout Layer**: reduces overfitting by randomly dropping fully connected nodes\n",
    "\n",
    "\n",
    "We will use the *ReLU* activation function for each layer, and the *sigmoid* function for our final output layer because we only have two categories. In addition, we will use \"same\" padding for our convolutional layer (padding used to maintain image size) and \"valid\" padding for our max pool layer (no padding, so image size is reduced).\n",
    "<br>\n",
    "<br>\n",
    "In order to prevent overfitting, the most common problem in convolutional neural networks, we will use several tactics. The most important is adding **Dropout** layers within our fully connected layer. This randomly drops several nodes, and it is highly effective in stopping the network from hyper-focusing on irrelevant features in the images and thus prevents overfitting. Along with our dropout layers, we will use L2 regularization in our fully connected nodes. This helps the model generalize to the validation data by penalizing incorrect classifications."
   ]
  },
  {
   "cell_type": "markdown",
   "id": "variable-macedonia",
   "metadata": {},
   "source": [
    "###### Model Structure\n",
    "\n",
    "After several attempts at training the model, the below strcutrue was determined to be the best for hgih accuracy, low loss, and minimal overfitting. \n",
    "<br>\n",
    "<br>\n",
    "It consists of 3 convolutional layers of 64 nodes, 64 nodes, and 128 nodes, with a kernal size of 3. It then consists of 2 fully connected layers of 64 nodes and 128 nodes, and an output layer using the sigmoid function. In between the fully connected layers, there are dropout layers of rate 0.65."
   ]
  },
  {
   "cell_type": "code",
   "execution_count": 18,
   "id": "novel-mills",
   "metadata": {},
   "outputs": [
    {
     "name": "stdout",
     "output_type": "stream",
     "text": [
      "Model: \"sequential\"\n",
      "_________________________________________________________________\n",
      "Layer (type)                 Output Shape              Param #   \n",
      "=================================================================\n",
      "conv2d (Conv2D)              (None, 64, 64, 64)        640       \n",
      "_________________________________________________________________\n",
      "max_pooling2d (MaxPooling2D) (None, 32, 32, 64)        0         \n",
      "_________________________________________________________________\n",
      "conv2d_1 (Conv2D)            (None, 32, 32, 64)        36928     \n",
      "_________________________________________________________________\n",
      "max_pooling2d_1 (MaxPooling2 (None, 16, 16, 64)        0         \n",
      "_________________________________________________________________\n",
      "conv2d_2 (Conv2D)            (None, 16, 16, 128)       73856     \n",
      "_________________________________________________________________\n",
      "max_pooling2d_2 (MaxPooling2 (None, 8, 8, 128)         0         \n",
      "_________________________________________________________________\n",
      "flatten (Flatten)            (None, 8192)              0         \n",
      "_________________________________________________________________\n",
      "dense (Dense)                (None, 64)                524352    \n",
      "_________________________________________________________________\n",
      "dropout (Dropout)            (None, 64)                0         \n",
      "_________________________________________________________________\n",
      "dense_1 (Dense)              (None, 128)               8320      \n",
      "_________________________________________________________________\n",
      "dropout_1 (Dropout)          (None, 128)               0         \n",
      "_________________________________________________________________\n",
      "dense_2 (Dense)              (None, 2)                 258       \n",
      "=================================================================\n",
      "Total params: 644,354\n",
      "Trainable params: 644,354\n",
      "Non-trainable params: 0\n",
      "_________________________________________________________________\n"
     ]
    }
   ],
   "source": [
    "model = Sequential()\n",
    "model.add(Conv2D(64, 3, padding=\"same\", activation=\"relu\", input_shape=(img_size, img_size, 1)))\n",
    "model.add(MaxPool2D())\n",
    "\n",
    "model.add(Conv2D(64, 3, padding=\"same\", activation=\"relu\"))\n",
    "model.add(MaxPool2D())\n",
    "\n",
    "model.add(Conv2D(128, 3, padding=\"same\", activation=\"relu\"))\n",
    "model.add(MaxPool2D())\n",
    "\n",
    "model.add(Flatten())\n",
    "model.add(Dense(64, activation=\"relu\", bias_regularizer=l2(0.01), activity_regularizer=l2(0.01)))\n",
    "model.add(Dropout(0.65))\n",
    "model.add(Dense(128, activation=\"relu\", bias_regularizer=l2(0.01), activity_regularizer=l2(0.01)))\n",
    "model.add(Dropout(0.65))\n",
    "model.add(Dense(2, activation=\"sigmoid\"))\n",
    "\n",
    "model.summary()"
   ]
  },
  {
   "cell_type": "markdown",
   "id": "thorough-hopkins",
   "metadata": {},
   "source": [
    "For model training, we will use a learning rate of 0.00005. Several attempts at model training determined that this would be the idea learning rate for fast learning and accurate results. We will also use **Sparse Categorical Cross Entropy** to measure loss."
   ]
  },
  {
   "cell_type": "code",
   "execution_count": 19,
   "id": "looking-driver",
   "metadata": {},
   "outputs": [],
   "source": [
    "model.compile(optimizer=Adam(learning_rate=0.00005), loss='sparse_categorical_crossentropy', metrics=['accuracy'])"
   ]
  },
  {
   "cell_type": "markdown",
   "id": "primary-religious",
   "metadata": {},
   "source": [
    "#### Training the Model\n",
    "\n",
    "Now that the model structure has been established, we can begin what all of this has led to: *training the model*\n",
    "<br>\n",
    "<br>\n",
    "We will use 150 epochs through our data to fully train our network. This means that our model will iterate through the all images and adjust its weights accordingly 150 times. We will record our training loss, training accuracy, validation loss, and validation accuracy at each epoch. The goal is to decrease loss and increase accuracy at each epoch.\n",
    "\n",
    "##### Callbacks\n",
    "\n",
    "We will utlize several callbacks in our model training in order to maximize how effictive the training process is. The first callback is *ReduceLROnPlateau*, which under our configuration will cut the learning rate in half if validation loss does not decrease by at least 0.0002 through 5 consecutive epochs. The second callback is *EarlyStopping*, which under our configuration will end the training entirely if validation loss does not decrease by at least 0.002 through 15 consecutive epochs.\n",
    "<br>\n",
    "<br>\n",
    "These callbacks will help our training be as efficient as possible. *ReduceLROnPlateau* will help our model learn when it has gotten to a point where our learning rate is too high to continue. *EarlyStopping* will end our training once there is truly no more learning to be done, but there are still many more epochs that will do nothing but hurt the model.\n",
    "<br>\n",
    "Both of these callbacks have been set to print a message whenever they are used.\n",
    "\n",
    "##### Training Run\n",
    "\n",
    "Now, let's train our model!"
   ]
  },
  {
   "cell_type": "code",
   "execution_count": 20,
   "id": "manual-decade",
   "metadata": {},
   "outputs": [
    {
     "name": "stdout",
     "output_type": "stream",
     "text": [
      "Epoch 1/150\n",
      "169/169 [==============================] - 19s 111ms/step - loss: 0.6932 - accuracy: 0.5017 - val_loss: 0.6933 - val_accuracy: 0.4844\n",
      "Epoch 2/150\n",
      "169/169 [==============================] - 19s 112ms/step - loss: 0.6930 - accuracy: 0.5085 - val_loss: 0.6933 - val_accuracy: 0.4844\n",
      "Epoch 3/150\n",
      "169/169 [==============================] - 19s 113ms/step - loss: 0.6930 - accuracy: 0.5107 - val_loss: 0.6926 - val_accuracy: 0.4844\n",
      "Epoch 4/150\n",
      "169/169 [==============================] - 19s 115ms/step - loss: 0.6907 - accuracy: 0.5619 - val_loss: 0.6875 - val_accuracy: 0.6061\n",
      "Epoch 5/150\n",
      "169/169 [==============================] - 19s 112ms/step - loss: 0.6794 - accuracy: 0.5917 - val_loss: 0.6637 - val_accuracy: 0.5889\n",
      "Epoch 6/150\n",
      "169/169 [==============================] - 19s 113ms/step - loss: 0.6455 - accuracy: 0.6539 - val_loss: 0.6232 - val_accuracy: 0.6844\n",
      "Epoch 7/150\n",
      "169/169 [==============================] - 19s 112ms/step - loss: 0.6175 - accuracy: 0.6926 - val_loss: 0.5842 - val_accuracy: 0.7194\n",
      "Epoch 8/150\n",
      "169/169 [==============================] - 19s 109ms/step - loss: 0.5873 - accuracy: 0.7235 - val_loss: 0.5539 - val_accuracy: 0.7233\n",
      "Epoch 9/150\n",
      "169/169 [==============================] - 18s 109ms/step - loss: 0.5632 - accuracy: 0.7498 - val_loss: 0.5340 - val_accuracy: 0.7467\n",
      "Epoch 10/150\n",
      "169/169 [==============================] - 18s 109ms/step - loss: 0.5426 - accuracy: 0.7678 - val_loss: 0.5189 - val_accuracy: 0.7511\n",
      "Epoch 11/150\n",
      "169/169 [==============================] - 19s 112ms/step - loss: 0.5318 - accuracy: 0.7772 - val_loss: 0.5105 - val_accuracy: 0.7683\n",
      "Epoch 12/150\n",
      "169/169 [==============================] - 20s 120ms/step - loss: 0.5183 - accuracy: 0.7896 - val_loss: 0.5212 - val_accuracy: 0.7489\n",
      "Epoch 13/150\n",
      "169/169 [==============================] - 20s 116ms/step - loss: 0.5131 - accuracy: 0.7970 - val_loss: 0.4962 - val_accuracy: 0.7789\n",
      "Epoch 14/150\n",
      "169/169 [==============================] - 19s 111ms/step - loss: 0.4947 - accuracy: 0.7996 - val_loss: 0.4893 - val_accuracy: 0.7839\n",
      "Epoch 15/150\n",
      "169/169 [==============================] - 20s 116ms/step - loss: 0.4899 - accuracy: 0.7976 - val_loss: 0.4835 - val_accuracy: 0.7911\n",
      "Epoch 16/150\n",
      "169/169 [==============================] - 21s 125ms/step - loss: 0.4851 - accuracy: 0.8006 - val_loss: 0.4812 - val_accuracy: 0.7906\n",
      "Epoch 17/150\n",
      "169/169 [==============================] - 19s 114ms/step - loss: 0.4754 - accuracy: 0.8089 - val_loss: 0.4733 - val_accuracy: 0.7956\n",
      "Epoch 18/150\n",
      "169/169 [==============================] - 19s 112ms/step - loss: 0.4731 - accuracy: 0.8133 - val_loss: 0.4672 - val_accuracy: 0.7989\n",
      "Epoch 19/150\n",
      "169/169 [==============================] - 20s 117ms/step - loss: 0.4600 - accuracy: 0.8156 - val_loss: 0.4635 - val_accuracy: 0.7994\n",
      "Epoch 20/150\n",
      "169/169 [==============================] - 19s 113ms/step - loss: 0.4559 - accuracy: 0.8219 - val_loss: 0.4579 - val_accuracy: 0.8044\n",
      "Epoch 21/150\n",
      "169/169 [==============================] - 19s 113ms/step - loss: 0.4507 - accuracy: 0.8244 - val_loss: 0.4568 - val_accuracy: 0.8061\n",
      "Epoch 22/150\n",
      "169/169 [==============================] - 19s 115ms/step - loss: 0.4413 - accuracy: 0.8250 - val_loss: 0.4469 - val_accuracy: 0.8100\n",
      "Epoch 23/150\n",
      "169/169 [==============================] - 19s 112ms/step - loss: 0.4288 - accuracy: 0.8287 - val_loss: 0.4467 - val_accuracy: 0.8089\n",
      "Epoch 24/150\n",
      "169/169 [==============================] - 19s 112ms/step - loss: 0.4277 - accuracy: 0.8348 - val_loss: 0.4353 - val_accuracy: 0.8117\n",
      "Epoch 25/150\n",
      "169/169 [==============================] - 19s 115ms/step - loss: 0.4150 - accuracy: 0.8306 - val_loss: 0.4359 - val_accuracy: 0.8211\n",
      "Epoch 26/150\n",
      "169/169 [==============================] - 19s 113ms/step - loss: 0.4050 - accuracy: 0.8350 - val_loss: 0.4268 - val_accuracy: 0.8167\n",
      "Epoch 27/150\n",
      "169/169 [==============================] - 19s 112ms/step - loss: 0.4045 - accuracy: 0.8426 - val_loss: 0.4324 - val_accuracy: 0.8061\n",
      "Epoch 28/150\n",
      "169/169 [==============================] - 19s 112ms/step - loss: 0.3877 - accuracy: 0.8530 - val_loss: 0.4278 - val_accuracy: 0.8156\n",
      "Epoch 29/150\n",
      "169/169 [==============================] - 19s 111ms/step - loss: 0.3883 - accuracy: 0.8457 - val_loss: 0.4185 - val_accuracy: 0.8283\n",
      "Epoch 30/150\n",
      "169/169 [==============================] - 19s 112ms/step - loss: 0.3785 - accuracy: 0.8565 - val_loss: 0.4135 - val_accuracy: 0.8306\n",
      "Epoch 31/150\n",
      "169/169 [==============================] - 19s 114ms/step - loss: 0.3747 - accuracy: 0.8563 - val_loss: 0.4028 - val_accuracy: 0.8283\n",
      "Epoch 32/150\n",
      "169/169 [==============================] - 19s 115ms/step - loss: 0.3621 - accuracy: 0.8630 - val_loss: 0.4118 - val_accuracy: 0.8317\n",
      "Epoch 33/150\n",
      "169/169 [==============================] - 19s 113ms/step - loss: 0.3585 - accuracy: 0.8670 - val_loss: 0.3953 - val_accuracy: 0.8356\n",
      "Epoch 34/150\n",
      "169/169 [==============================] - 19s 113ms/step - loss: 0.3454 - accuracy: 0.8720 - val_loss: 0.3865 - val_accuracy: 0.8350\n",
      "Epoch 35/150\n",
      "169/169 [==============================] - 19s 112ms/step - loss: 0.3443 - accuracy: 0.8731 - val_loss: 0.3887 - val_accuracy: 0.8361\n",
      "Epoch 36/150\n",
      "169/169 [==============================] - 19s 115ms/step - loss: 0.3363 - accuracy: 0.8741 - val_loss: 0.3916 - val_accuracy: 0.8478\n",
      "Epoch 37/150\n",
      "169/169 [==============================] - 19s 115ms/step - loss: 0.3318 - accuracy: 0.8776 - val_loss: 0.3825 - val_accuracy: 0.8411\n",
      "Epoch 38/150\n",
      "169/169 [==============================] - 20s 117ms/step - loss: 0.3258 - accuracy: 0.8785 - val_loss: 0.3784 - val_accuracy: 0.8539\n",
      "Epoch 39/150\n",
      "169/169 [==============================] - 19s 113ms/step - loss: 0.3201 - accuracy: 0.8859 - val_loss: 0.3701 - val_accuracy: 0.8567\n",
      "Epoch 40/150\n",
      "169/169 [==============================] - 19s 113ms/step - loss: 0.3090 - accuracy: 0.8906 - val_loss: 0.3633 - val_accuracy: 0.8617\n",
      "Epoch 41/150\n",
      "169/169 [==============================] - 20s 116ms/step - loss: 0.3068 - accuracy: 0.8893 - val_loss: 0.3703 - val_accuracy: 0.8578\n",
      "Epoch 42/150\n",
      "169/169 [==============================] - 19s 113ms/step - loss: 0.3054 - accuracy: 0.8896 - val_loss: 0.3444 - val_accuracy: 0.8650\n",
      "Epoch 43/150\n",
      "169/169 [==============================] - 19s 114ms/step - loss: 0.3008 - accuracy: 0.8944 - val_loss: 0.3615 - val_accuracy: 0.8578\n",
      "Epoch 44/150\n",
      "169/169 [==============================] - 20s 121ms/step - loss: 0.2867 - accuracy: 0.8998 - val_loss: 0.3522 - val_accuracy: 0.8528\n",
      "Epoch 45/150\n",
      "169/169 [==============================] - 20s 119ms/step - loss: 0.2804 - accuracy: 0.9020 - val_loss: 0.3516 - val_accuracy: 0.8583\n",
      "Epoch 46/150\n",
      "169/169 [==============================] - 19s 113ms/step - loss: 0.2771 - accuracy: 0.9007 - val_loss: 0.3407 - val_accuracy: 0.8689\n",
      "Epoch 47/150\n",
      "169/169 [==============================] - 19s 114ms/step - loss: 0.2760 - accuracy: 0.9044 - val_loss: 0.3606 - val_accuracy: 0.8683\n",
      "Epoch 48/150\n",
      "169/169 [==============================] - 19s 113ms/step - loss: 0.2664 - accuracy: 0.9069 - val_loss: 0.3392 - val_accuracy: 0.8672\n",
      "Epoch 49/150\n",
      "169/169 [==============================] - 19s 112ms/step - loss: 0.2599 - accuracy: 0.9091 - val_loss: 0.3233 - val_accuracy: 0.8789\n",
      "Epoch 50/150\n",
      "169/169 [==============================] - 20s 116ms/step - loss: 0.2642 - accuracy: 0.9067 - val_loss: 0.3219 - val_accuracy: 0.8661\n",
      "Epoch 51/150\n",
      "169/169 [==============================] - 19s 114ms/step - loss: 0.2513 - accuracy: 0.9124 - val_loss: 0.3165 - val_accuracy: 0.8828\n",
      "Epoch 52/150\n",
      "169/169 [==============================] - 19s 113ms/step - loss: 0.2431 - accuracy: 0.9187 - val_loss: 0.3222 - val_accuracy: 0.8694\n",
      "Epoch 53/150\n",
      "169/169 [==============================] - 19s 113ms/step - loss: 0.2402 - accuracy: 0.9139 - val_loss: 0.3283 - val_accuracy: 0.8850\n",
      "Epoch 54/150\n",
      "169/169 [==============================] - 19s 114ms/step - loss: 0.2345 - accuracy: 0.9215 - val_loss: 0.2947 - val_accuracy: 0.8878\n",
      "Epoch 55/150\n",
      "169/169 [==============================] - 19s 113ms/step - loss: 0.2261 - accuracy: 0.9267 - val_loss: 0.3199 - val_accuracy: 0.8894\n",
      "Epoch 56/150\n",
      "169/169 [==============================] - 19s 114ms/step - loss: 0.2172 - accuracy: 0.9306 - val_loss: 0.2814 - val_accuracy: 0.8928\n"
     ]
    },
    {
     "name": "stdout",
     "output_type": "stream",
     "text": [
      "Epoch 57/150\n",
      "169/169 [==============================] - 19s 112ms/step - loss: 0.2175 - accuracy: 0.9287 - val_loss: 0.3012 - val_accuracy: 0.8950\n",
      "Epoch 58/150\n",
      "169/169 [==============================] - 19s 112ms/step - loss: 0.2152 - accuracy: 0.9298 - val_loss: 0.3016 - val_accuracy: 0.8944\n",
      "Epoch 59/150\n",
      "169/169 [==============================] - 19s 111ms/step - loss: 0.2198 - accuracy: 0.9280 - val_loss: 0.2861 - val_accuracy: 0.8928\n",
      "Epoch 60/150\n",
      "169/169 [==============================] - 19s 111ms/step - loss: 0.2099 - accuracy: 0.9328 - val_loss: 0.2686 - val_accuracy: 0.8911\n",
      "Epoch 61/150\n",
      "169/169 [==============================] - 19s 111ms/step - loss: 0.2019 - accuracy: 0.9365 - val_loss: 0.2870 - val_accuracy: 0.9011\n",
      "Epoch 62/150\n",
      "169/169 [==============================] - 19s 114ms/step - loss: 0.1971 - accuracy: 0.9396 - val_loss: 0.2625 - val_accuracy: 0.8889\n",
      "Epoch 63/150\n",
      "169/169 [==============================] - 19s 114ms/step - loss: 0.1955 - accuracy: 0.9365 - val_loss: 0.2581 - val_accuracy: 0.9061\n",
      "Epoch 64/150\n",
      "169/169 [==============================] - 19s 111ms/step - loss: 0.1893 - accuracy: 0.9411 - val_loss: 0.2508 - val_accuracy: 0.9117\n",
      "Epoch 65/150\n",
      "169/169 [==============================] - 19s 112ms/step - loss: 0.1826 - accuracy: 0.9472 - val_loss: 0.2770 - val_accuracy: 0.9072\n",
      "Epoch 66/150\n",
      "169/169 [==============================] - 19s 112ms/step - loss: 0.1938 - accuracy: 0.9385 - val_loss: 0.3243 - val_accuracy: 0.8933\n",
      "Epoch 67/150\n",
      "169/169 [==============================] - 19s 113ms/step - loss: 0.1841 - accuracy: 0.9424 - val_loss: 0.2416 - val_accuracy: 0.9122\n",
      "Epoch 68/150\n",
      "169/169 [==============================] - 19s 115ms/step - loss: 0.1770 - accuracy: 0.9450 - val_loss: 0.2391 - val_accuracy: 0.9111\n",
      "Epoch 69/150\n",
      "169/169 [==============================] - 19s 115ms/step - loss: 0.1717 - accuracy: 0.9513 - val_loss: 0.2392 - val_accuracy: 0.9178\n",
      "Epoch 70/150\n",
      "169/169 [==============================] - 19s 112ms/step - loss: 0.1708 - accuracy: 0.9469 - val_loss: 0.2378 - val_accuracy: 0.9139\n",
      "Epoch 71/150\n",
      "169/169 [==============================] - 19s 112ms/step - loss: 0.1749 - accuracy: 0.9457 - val_loss: 0.2816 - val_accuracy: 0.9050\n",
      "Epoch 72/150\n",
      "169/169 [==============================] - 19s 111ms/step - loss: 0.1657 - accuracy: 0.9535 - val_loss: 0.2284 - val_accuracy: 0.9117\n",
      "Epoch 73/150\n",
      "169/169 [==============================] - 19s 112ms/step - loss: 0.1625 - accuracy: 0.9526 - val_loss: 0.2751 - val_accuracy: 0.9089\n",
      "Epoch 74/150\n",
      "169/169 [==============================] - 19s 112ms/step - loss: 0.1650 - accuracy: 0.9524 - val_loss: 0.2988 - val_accuracy: 0.9056\n",
      "Epoch 75/150\n",
      "169/169 [==============================] - 19s 114ms/step - loss: 0.1601 - accuracy: 0.9550 - val_loss: 0.2261 - val_accuracy: 0.9189\n",
      "Epoch 76/150\n",
      "169/169 [==============================] - 19s 113ms/step - loss: 0.1568 - accuracy: 0.9556 - val_loss: 0.2450 - val_accuracy: 0.9006\n",
      "Epoch 77/150\n",
      "169/169 [==============================] - 19s 111ms/step - loss: 0.1609 - accuracy: 0.9506 - val_loss: 0.2473 - val_accuracy: 0.9144\n",
      "Epoch 78/150\n",
      "169/169 [==============================] - 19s 111ms/step - loss: 0.1566 - accuracy: 0.9581 - val_loss: 0.2744 - val_accuracy: 0.9139\n",
      "Epoch 79/150\n",
      "169/169 [==============================] - 19s 112ms/step - loss: 0.1495 - accuracy: 0.9559 - val_loss: 0.2247 - val_accuracy: 0.9222\n",
      "Epoch 80/150\n",
      "169/169 [==============================] - 19s 110ms/step - loss: 0.1500 - accuracy: 0.9559 - val_loss: 0.2703 - val_accuracy: 0.9067\n",
      "Epoch 81/150\n",
      "169/169 [==============================] - 19s 114ms/step - loss: 0.1380 - accuracy: 0.9570 - val_loss: 0.2183 - val_accuracy: 0.9244\n",
      "Epoch 82/150\n",
      "169/169 [==============================] - 20s 116ms/step - loss: 0.1447 - accuracy: 0.9556 - val_loss: 0.2174 - val_accuracy: 0.9228\n",
      "Epoch 83/150\n",
      "169/169 [==============================] - 19s 111ms/step - loss: 0.1375 - accuracy: 0.9609 - val_loss: 0.2352 - val_accuracy: 0.9233\n",
      "Epoch 84/150\n",
      "169/169 [==============================] - 19s 113ms/step - loss: 0.1427 - accuracy: 0.9591 - val_loss: 0.2701 - val_accuracy: 0.9089\n",
      "Epoch 85/150\n",
      "169/169 [==============================] - 19s 114ms/step - loss: 0.1387 - accuracy: 0.9596 - val_loss: 0.2273 - val_accuracy: 0.9200\n",
      "Epoch 86/150\n",
      "169/169 [==============================] - 19s 112ms/step - loss: 0.1391 - accuracy: 0.9581 - val_loss: 0.2735 - val_accuracy: 0.9156\n",
      "Epoch 87/150\n",
      "169/169 [==============================] - 19s 115ms/step - loss: 0.1446 - accuracy: 0.9570 - val_loss: 0.2164 - val_accuracy: 0.9272\n",
      "Epoch 88/150\n",
      "169/169 [==============================] - 20s 117ms/step - loss: 0.1312 - accuracy: 0.9643 - val_loss: 0.2123 - val_accuracy: 0.9267\n",
      "Epoch 89/150\n",
      "169/169 [==============================] - 19s 112ms/step - loss: 0.1419 - accuracy: 0.9594 - val_loss: 0.2244 - val_accuracy: 0.9250\n",
      "Epoch 90/150\n",
      "169/169 [==============================] - 19s 113ms/step - loss: 0.1326 - accuracy: 0.9619 - val_loss: 0.2233 - val_accuracy: 0.9233\n",
      "Epoch 91/150\n",
      "169/169 [==============================] - 19s 112ms/step - loss: 0.1345 - accuracy: 0.9609 - val_loss: 0.2166 - val_accuracy: 0.9161\n",
      "Epoch 92/150\n",
      "169/169 [==============================] - 19s 113ms/step - loss: 0.1389 - accuracy: 0.9630 - val_loss: 0.2245 - val_accuracy: 0.9250\n",
      "Epoch 93/150\n",
      "169/169 [==============================] - 20s 117ms/step - loss: 0.1258 - accuracy: 0.9670 - val_loss: 0.2079 - val_accuracy: 0.9267\n",
      "Epoch 94/150\n",
      "169/169 [==============================] - 20s 118ms/step - loss: 0.1267 - accuracy: 0.9659 - val_loss: 0.2037 - val_accuracy: 0.9233\n",
      "Epoch 95/150\n",
      "169/169 [==============================] - 19s 115ms/step - loss: 0.1250 - accuracy: 0.9648 - val_loss: 0.2136 - val_accuracy: 0.9256\n",
      "Epoch 96/150\n",
      "169/169 [==============================] - 19s 115ms/step - loss: 0.1277 - accuracy: 0.9633 - val_loss: 0.2193 - val_accuracy: 0.9250\n",
      "Epoch 97/150\n",
      "169/169 [==============================] - 19s 115ms/step - loss: 0.1215 - accuracy: 0.9689 - val_loss: 0.2042 - val_accuracy: 0.9244\n",
      "Epoch 98/150\n",
      "169/169 [==============================] - 19s 115ms/step - loss: 0.1239 - accuracy: 0.9659 - val_loss: 0.1980 - val_accuracy: 0.9306\n",
      "Epoch 99/150\n",
      "169/169 [==============================] - 19s 112ms/step - loss: 0.1217 - accuracy: 0.9659 - val_loss: 0.2029 - val_accuracy: 0.9306\n",
      "Epoch 100/150\n",
      "169/169 [==============================] - 20s 117ms/step - loss: 0.1180 - accuracy: 0.9711 - val_loss: 0.2375 - val_accuracy: 0.9267\n",
      "Epoch 101/150\n",
      "169/169 [==============================] - 19s 114ms/step - loss: 0.1192 - accuracy: 0.9678 - val_loss: 0.2147 - val_accuracy: 0.9267\n",
      "Epoch 102/150\n",
      "169/169 [==============================] - 19s 111ms/step - loss: 0.1141 - accuracy: 0.9680 - val_loss: 0.1881 - val_accuracy: 0.9289\n",
      "Epoch 103/150\n",
      "169/169 [==============================] - 19s 112ms/step - loss: 0.1109 - accuracy: 0.9706 - val_loss: 0.1995 - val_accuracy: 0.9294\n",
      "Epoch 104/150\n",
      "169/169 [==============================] - 19s 110ms/step - loss: 0.1106 - accuracy: 0.9728 - val_loss: 0.2303 - val_accuracy: 0.9256\n",
      "Epoch 105/150\n",
      "169/169 [==============================] - 19s 110ms/step - loss: 0.1124 - accuracy: 0.9722 - val_loss: 0.2165 - val_accuracy: 0.9261\n",
      "Epoch 106/150\n",
      "169/169 [==============================] - 19s 111ms/step - loss: 0.1086 - accuracy: 0.9719 - val_loss: 0.2055 - val_accuracy: 0.9328\n",
      "Epoch 107/150\n",
      "169/169 [==============================] - 19s 114ms/step - loss: 0.1130 - accuracy: 0.9681 - val_loss: 0.2267 - val_accuracy: 0.9272\n",
      "\n",
      "Epoch 00107: ReduceLROnPlateau reducing learning rate to 2.499999936844688e-05.\n",
      "Epoch 108/150\n",
      "169/169 [==============================] - 19s 111ms/step - loss: 0.1052 - accuracy: 0.9735 - val_loss: 0.2018 - val_accuracy: 0.9317\n",
      "Epoch 109/150\n",
      "169/169 [==============================] - 19s 110ms/step - loss: 0.1004 - accuracy: 0.9765 - val_loss: 0.2171 - val_accuracy: 0.9294\n",
      "Epoch 110/150\n",
      "169/169 [==============================] - 19s 110ms/step - loss: 0.0975 - accuracy: 0.9746 - val_loss: 0.2308 - val_accuracy: 0.9289\n",
      "Epoch 111/150\n",
      "169/169 [==============================] - 19s 113ms/step - loss: 0.0968 - accuracy: 0.9776 - val_loss: 0.2063 - val_accuracy: 0.9267\n",
      "Epoch 112/150\n",
      "169/169 [==============================] - 19s 111ms/step - loss: 0.1005 - accuracy: 0.9774 - val_loss: 0.1919 - val_accuracy: 0.9317\n",
      "\n",
      "Epoch 00112: ReduceLROnPlateau reducing learning rate to 1.249999968422344e-05.\n",
      "Epoch 113/150\n",
      "169/169 [==============================] - 19s 115ms/step - loss: 0.0940 - accuracy: 0.9793 - val_loss: 0.1910 - val_accuracy: 0.9361\n",
      "Epoch 114/150\n",
      "169/169 [==============================] - 19s 110ms/step - loss: 0.0941 - accuracy: 0.9781 - val_loss: 0.2028 - val_accuracy: 0.9300\n",
      "Epoch 115/150\n",
      "169/169 [==============================] - 19s 110ms/step - loss: 0.0928 - accuracy: 0.9776 - val_loss: 0.2169 - val_accuracy: 0.9311\n",
      "Epoch 116/150\n",
      "169/169 [==============================] - 19s 111ms/step - loss: 0.0916 - accuracy: 0.9791 - val_loss: 0.1985 - val_accuracy: 0.9328\n",
      "Epoch 117/150\n",
      "169/169 [==============================] - 19s 110ms/step - loss: 0.0920 - accuracy: 0.9769 - val_loss: 0.1894 - val_accuracy: 0.9350\n",
      "\n",
      "Epoch 00117: ReduceLROnPlateau reducing learning rate to 6.24999984211172e-06.\n",
      "Epoch 00117: early stopping\n"
     ]
    }
   ],
   "source": [
    "callback_list = [ReduceLROnPlateau(min_delta=0.0002, patience=5, factor=0.5, min_lr=0.000001, verbose=1),\n",
    "                EarlyStopping(min_delta=0.0002, patience=15, verbose=1)]\n",
    "\n",
    "history = model.fit(X_train, y_train, epochs=150, validation_data=(X_test, y_test), \n",
    "                    shuffle=True, callbacks=callback_list)"
   ]
  },
  {
   "cell_type": "markdown",
   "id": "owned-frequency",
   "metadata": {},
   "source": [
    "Fantastic! Our model has a validation loss of just 0.1894 and a validation accuracy of almost **94%!** \n",
    "<br>\n",
    "This is a really robust model that will effectively distinguish stop signs from yield signs in almost all cases!"
   ]
  },
  {
   "cell_type": "markdown",
   "id": "worst-involvement",
   "metadata": {},
   "source": [
    "#### Final Visualizations\n",
    "\n",
    "Now that our model has been trained and has a high accuracy, it's time for a few final visualizations to further understand what our model achieved."
   ]
  },
  {
   "cell_type": "code",
   "execution_count": 21,
   "id": "theoretical-coaching",
   "metadata": {},
   "outputs": [
    {
     "data": {
      "image/png": "[encoded data removed]",
      "text/plain": [
       "<Figure size 1080x360 with 2 Axes>"
      ]
     },
     "metadata": {
      "needs_background": "light"
     },
     "output_type": "display_data"
    },
    {
     "data": {
      "image/png": "[encoded data removed]",
      "text/plain": [
       "<Figure size 504x288 with 1 Axes>"
      ]
     },
     "metadata": {
      "needs_background": "light"
     },
     "output_type": "display_data"
    }
   ],
   "source": [
    "acc = history.history['accuracy']\n",
    "val_acc = history.history['val_accuracy']\n",
    "loss = history.history['loss']\n",
    "val_loss = history.history['val_loss']\n",
    "\n",
    "fig, (ax1, ax2) = plt.subplots(1, 2, sharey=True, figsize=((15, 5)))\n",
    "ax1.plot(history.epoch, acc, label='Training Accuracy', color='green')\n",
    "ax1.plot(history.epoch, val_acc, label='Validation Accuracy', color='orange')\n",
    "ax1.legend(loc='lower right')\n",
    "ax1.set_title('Training and Validation Accuracy')\n",
    "\n",
    "ax2.plot(history.epoch, loss, label='Training Loss', color='green')\n",
    "ax2.plot(history.epoch, val_loss, label='Validation Loss', color='orange')\n",
    "ax2.legend(loc='upper right')\n",
    "ax2.set_title('Training and Validation Loss')\n",
    "plt.show()\n",
    "\n",
    "plt.figure(figsize=(7, 4))\n",
    "plt.plot(history.epoch, np.array(val_loss) - np.array(loss))\n",
    "plt.title('Difference Between Training and Validation Loss')\n",
    "plt.show()"
   ]
  },
  {
   "cell_type": "code",
   "execution_count": null,
   "id": "incorporated-leonard",
   "metadata": {},
   "outputs": [],
   "source": []
  }
 ],
 "metadata": {
  "kernelspec": {
   "display_name": "Python 3",
   "language": "python",
   "name": "python3"
  },
  "language_info": {
   "codemirror_mode": {
    "name": "ipython",
    "version": 3
   },
   "file_extension": ".py",
   "mimetype": "text/x-python",
   "name": "python",
   "nbconvert_exporter": "python",
   "pygments_lexer": "ipython3",
   "version": "3.8.8"
  }
 },
 "nbformat": 4,
 "nbformat_minor": 5
}
